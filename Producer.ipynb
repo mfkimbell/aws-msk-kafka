{
 "cells": [
  {
   "cell_type": "code",
   "execution_count": null,
   "id": "cb2ee23d-6e39-4542-8f23-1bebf8a9ffc5",
   "metadata": {},
   "outputs": [],
   "source": [
    "!pip3 install confluent-kafka\n",
    "!pip3 install pandas"
   ]
  },
  {
   "cell_type": "code",
   "execution_count": null,
   "id": "434bb62e-c5de-4df0-b721-1ac03617dbfd",
   "metadata": {},
   "outputs": [],
   "source": [
    "import pandas as pd\n",
    "from confluent_kafka import Producer\n",
    "from time import sleep\n",
    "from json import dumps\n",
    "import socket\n",
    "import json"
   ]
  },
  {
   "cell_type": "code",
   "execution_count": null,
   "id": "19a5c624-3aa7-48c1-ab92-5c7964a11e98",
   "metadata": {},
   "outputs": [],
   "source": [
    "conf = {\n",
    "    'bootstrap.servers': 'b-3.testmsk.sqb9zi.c10.kafka.us-east-1.amazonaws.com:9092,b-1.testmsk.sqb9zi.c10.kafka.us-east-1.amazonaws.com:9092,b-2.testmsk.sqb9zi.c10.kafka.us-east-1.amazonaws.com:9092',\n",
    "    'client.id': socket.gethostname()\n",
    "}\n",
    "\n",
    "producer = Producer(conf)\n"
   ]
  },
  {
   "cell_type": "code",
   "execution_count": null,
   "id": "b05c62ef-e04c-4638-a326-495c75a7e619",
   "metadata": {},
   "outputs": [],
   "source": [
    "# producer.produce('Mitch_Topic', value=\"Mitch\") # test input"
   ]
  },
  {
   "cell_type": "code",
   "execution_count": null,
   "id": "97144427-f417-4b5c-9f5e-7dee828eccba",
   "metadata": {},
   "outputs": [],
   "source": [
    "df = pd.read_csv(\"indexProcessed.csv\")"
   ]
  },
  {
   "cell_type": "code",
   "execution_count": null,
   "id": "b414e570-4aa6-4964-86ad-36da9a5f8e13",
   "metadata": {},
   "outputs": [],
   "source": [
    "\n",
    "x = 0\n",
    "while x < 1000: # simulate api data streaming in\n",
    "    dict_stock = df.sample(1).to_dict(orient=\"records\")[0]\n",
    "    json_value = json.dumps(dict_stock)  # Convert the dictionary to a JSON string\n",
    "    producer.produce('Mitch_Topic', key=\"key\", value=json_value.encode('utf-8'))  # Encode the JSON string to bytes\n",
    "    x += 1\n",
    "    sleep(1)\n",
    "    \n",
    "# Ensure all messages are sent before exiting\n",
    "producer.flush()"
   ]
  }
 ],
 "metadata": {
  "kernelspec": {
   "display_name": "Python 3 (ipykernel)",
   "language": "python",
   "name": "python3"
  },
  "language_info": {
   "codemirror_mode": {
    "name": "ipython",
    "version": 3
   },
   "file_extension": ".py",
   "mimetype": "text/x-python",
   "name": "python",
   "nbconvert_exporter": "python",
   "pygments_lexer": "ipython3",
   "version": "3.12.4"
  }
 },
 "nbformat": 4,
 "nbformat_minor": 5
}
