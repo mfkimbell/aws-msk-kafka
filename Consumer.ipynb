{
 "cells": [
  {
   "cell_type": "code",
   "execution_count": null,
   "id": "24b0ce66-9860-463c-9fe9-666840bf628e",
   "metadata": {},
   "outputs": [],
   "source": [
    "!pip3 install confluent-kafka\n",
    "!pip3 install pandas\n",
    "!pip3 install s3fs\n",
    "!pip install boto3"
   ]
  },
  {
   "cell_type": "code",
   "execution_count": null,
   "id": "f9dcd7b0-f1e8-4f05-a541-9b5f8e607d67",
   "metadata": {},
   "outputs": [],
   "source": [
    "import pandas as pd\n",
    "from confluent_kafka import Consumer\n",
    "from time import sleep\n",
    "import json\n",
    "import socket\n",
    "from s3fs import S3FileSystem\n",
    "import boto3\n",
    "from botocore.exceptions import NoCredentialsError\n",
    "import os"
   ]
  },
  {
   "cell_type": "code",
   "execution_count": null,
   "id": "fa221d83-61c7-4447-8876-a95cd31cd8f5",
   "metadata": {},
   "outputs": [],
   "source": [
    "os.environ['AWS_ACCESS_KEY_ID'] = '<insert your access key>'\n",
    "os.environ['AWS_SECRET_ACCESS_KEY'] = '<insert your secret key ;P>'\n",
    "os.environ['AWS_DEFAULT_REGION'] = '<insert your regions ex: us-east-1>'"
   ]
  },
  {
   "cell_type": "code",
   "execution_count": null,
   "id": "9faeccb8-e18a-4585-a631-7e950e5cc501",
   "metadata": {},
   "outputs": [],
   "source": [
    "conf = {\n",
    "    # make sure you replace these with your broker addresses\n",
    "    'bootstrap.servers': 'b-3.testmsk.sqb9zi.c10.kafka.us-east-1.amazonaws.com:9092,b-1.testmsk.sqb9zi.c10.kafka.us-east-1.amazonaws.com:9092,b-2.testmsk.sqb9zi.c10.kafka.us-east-1.amazonaws.com:9092',\n",
    "    'client.id': socket.gethostname(),\n",
    "     'group.id': 'foo'\n",
    "}\n",
    "\n",
    "consumer = Consumer(conf)"
   ]
  },
  {
   "cell_type": "code",
   "execution_count": null,
   "id": "60c72ea2-3079-42d4-a8ab-35abac91c241",
   "metadata": {},
   "outputs": [],
   "source": [
    "running = True\n",
    "\n",
    "# Initialize the S3 client\n",
    "s3 = boto3.client('s3')\n",
    "\n",
    "def basic_consume_loop(consumer, topics):\n",
    "    count = 0  # Initialize a counter for file names\n",
    "    bucket_name = 'data-from-kafka' # PUT YOUR BUCKET NAME HERE\n",
    "\n",
    "    try:\n",
    "        consumer.subscribe(topics)\n",
    "\n",
    "        while running:\n",
    "            msg = consumer.poll(timeout=1.0)\n",
    "           \n",
    "            if msg is None:\n",
    "                continue\n",
    "            \n",
    "            if msg.error():\n",
    "                print(f\"Consumer error: {msg.error()}\")\n",
    "                continue\n",
    "\n",
    "            # Decode the message and print it\n",
    "            message_value = msg.value().decode('utf-8')\n",
    "            print(message_value)\n",
    "\n",
    "            # Write the message to an S3 bucket\n",
    "            file_name = \"stock_market_{}.json\".format(count)\n",
    "            try:\n",
    "                s3.put_object(Bucket=bucket_name, Key=file_name, Body=json.dumps(message_value))\n",
    "                print(f\"Saved message to S3 as {file_name}\")\n",
    "            except NoCredentialsError:\n",
    "                print(\"Credentials not available for accessing S3\")\n",
    "\n",
    "            count += 1\n",
    "\n",
    "    finally:\n",
    "        # Close down consumer to commit final offsets.\n",
    "        consumer.close()\n",
    "\n",
    "def shutdown():\n",
    "    global running\n",
    "    running = False"
   ]
  },
  {
   "cell_type": "code",
   "execution_count": null,
   "id": "e19cd8a9-c4b2-492d-a835-fb422ffc4fa0",
   "metadata": {},
   "outputs": [],
   "source": [
    "basic_consume_loop(consumer, [\"Mitch_Topic\"])"
   ]
  },
  {
   "cell_type": "code",
   "execution_count": null,
   "id": "316751bf-fad2-4f31-98a3-9e5864a7b24c",
   "metadata": {},
   "outputs": [],
   "source": []
  }
 ],
 "metadata": {
  "kernelspec": {
   "display_name": "Python 3 (ipykernel)",
   "language": "python",
   "name": "python3"
  },
  "language_info": {
   "codemirror_mode": {
    "name": "ipython",
    "version": 3
   },
   "file_extension": ".py",
   "mimetype": "text/x-python",
   "name": "python",
   "nbconvert_exporter": "python",
   "pygments_lexer": "ipython3",
   "version": "3.12.4"
  }
 },
 "nbformat": 4,
 "nbformat_minor": 5
}
